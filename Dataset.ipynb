{
 "cells": [
  {
   "cell_type": "code",
   "execution_count": null,
   "id": "f7ffc780",
   "metadata": {},
   "outputs": [],
   "source": [
    "import pandas as pd\n",
    "import random\n",
    "import shutil"
   ]
  },
  {
   "cell_type": "code",
   "execution_count": null,
   "id": "b8b98c98",
   "metadata": {},
   "outputs": [],
   "source": [
    "gt = pd.read_csv('GroundTruth.csv')\n",
    "len(gt)"
   ]
  },
  {
   "cell_type": "code",
   "execution_count": null,
   "id": "5ca30281",
   "metadata": {},
   "outputs": [],
   "source": [
    "dataset = {}\n",
    "class_labels = ['MEL', 'NV', 'BCC', 'AKIEC', 'BKL', 'DF', 'VASC']\n",
    "\n",
    "for index in range(len(class_labels)):\n",
    "    dataset[class_labels[index]] = []\n",
    "    \n",
    "    \n",
    "for index in range(len(gt)):\n",
    "    for label in class_labels:\n",
    "        if int(gt.iloc[index][label]) == 1:\n",
    "            dataset[label].append(gt.iloc[index]['image'])\n",
    "            break\n",
    "\n",
    "count = 0\n",
    "for label in class_labels:\n",
    "    random.shuffle(dataset[label])\n",
    "    print(label)\n",
    "    print(len(dataset[label]))\n",
    "    count = count + len(dataset[label])\n",
    "    \n",
    "print(count)"
   ]
  },
  {
   "cell_type": "code",
   "execution_count": null,
   "id": "89cdd1d8",
   "metadata": {},
   "outputs": [],
   "source": [
    "for label in class_labels:\n",
    "    \n",
    "    total_len = len(dataset[label])\n",
    "    test_len = int(0.1*total_len)\n",
    "    val_len = test_len\n",
    "    train_len = total_len-test_len-val_len\n",
    "\n",
    "    for index in range(train_len):\n",
    "        filename_image = dataset[label][index] + '.jpg'\n",
    "        filename_mask  = dataset[label][index] + '_segmentation.png'\n",
    "        shutil.move('Split/Img/'+filename_image, 'Split/Img_Train/'+label+'/'+filename_image)\n",
    "        shutil.move('Split/Mask/'+filename_mask, 'Split/Mask_Train/'+filename_mask)\n",
    "\n",
    "    for index in range(train_len, train_len+test_len):\n",
    "        filename_image = dataset[label][index] + '.jpg'\n",
    "        filename_mask  = dataset[label][index] + '_segmentation.png'\n",
    "        shutil.move('Split/Img/'+filename_image, 'Split/Img_Test/'+label+'/'+filename_image)\n",
    "        shutil.move('Split/Mask/'+filename_mask, 'Split/Mask_Test/'+filename_mask)\n",
    "\n",
    "    for index in range(train_len+test_len, train_len+test_len+val_len):\n",
    "        filename_image = dataset[label][index] + '.jpg'\n",
    "        filename_mask  = dataset[label][index] + '_segmentation.png'\n",
    "        shutil.move('Split/Img/'+filename_image, 'Split/Img_Val/'+label+'/'+filename_image)\n",
    "        shutil.move('Split/Mask/'+filename_mask, 'Split/Mask_Val/'+filename_mask)"
   ]
  },
  {
   "cell_type": "code",
   "execution_count": null,
   "id": "1a597f96",
   "metadata": {},
   "outputs": [],
   "source": [
    "filename_image = \n",
    "print(filename_image)"
   ]
  },
  {
   "cell_type": "code",
   "execution_count": null,
   "id": "b32eddfe",
   "metadata": {},
   "outputs": [],
   "source": [
    "\n",
    "for i in range (len(gt)):\n",
    "    if gt.iloc[i]['image'] == 'ISIC_0029486':\n",
    "        print(gt.iloc[i])\n",
    "    \n",
    "\n"
   ]
  },
  {
   "cell_type": "markdown",
   "id": "895451d1",
   "metadata": {},
   "source": [
    "## ISIC"
   ]
  },
  {
   "cell_type": "code",
   "execution_count": null,
   "id": "8b16c80e",
   "metadata": {},
   "outputs": [],
   "source": [
    "from os import listdir\n",
    "from os.path import isfile, join\n",
    "\n",
    "mypath1a = 'ISIC_2016_1/Train/Img'\n",
    "mypath1c = 'ISIC_2016_1/Test/Img'\n",
    "\n",
    "mypath2a = 'ISIC_2016_2/Train/Img'\n",
    "mypath2c = 'ISIC_2016_2/Test/Img'\n",
    "\n",
    "mypath3a = 'ISIC_2017/Train/Img'\n",
    "mypath3b = 'ISIC_2017/Val/Img'\n",
    "mypath3c = 'ISIC_2017/Test/Img'\n",
    "\n",
    "mypath4a = 'ISIC_2018_1_2/Train/Img'\n",
    "mypath4b = 'ISIC_2018_1_2/Val/Img'\n",
    "\n",
    "mypath5a = 'ISIC_2018_3/Train'\n",
    "mypath5b = 'ISIC_2018_3/Val'\n",
    "\n",
    "files1a = [f for f in listdir(mypath1a) if isfile(join(mypath1a, f))]\n",
    "files1c = [f for f in listdir(mypath1c) if isfile(join(mypath1c, f))]\n",
    "\n",
    "files2a = [f for f in listdir(mypath2a) if isfile(join(mypath2a, f))]\n",
    "files2c = [f for f in listdir(mypath2c) if isfile(join(mypath2c, f))]\n",
    "\n",
    "files3a = [f for f in listdir(mypath3a) if isfile(join(mypath3a, f))]\n",
    "files3b = [f for f in listdir(mypath3b) if isfile(join(mypath3b, f))]\n",
    "files3c = [f for f in listdir(mypath3c) if isfile(join(mypath3c, f))]\n",
    "\n",
    "files4a = [f for f in listdir(mypath4a) if isfile(join(mypath4a, f))]\n",
    "files4b = [f for f in listdir(mypath4b) if isfile(join(mypath4b, f))]\n",
    "\n",
    "files5a = [f for f in listdir(mypath5a) if isfile(join(mypath5a, f))]\n",
    "files5b = [f for f in listdir(mypath5b) if isfile(join(mypath5b, f))]"
   ]
  },
  {
   "cell_type": "code",
   "execution_count": null,
   "id": "597fbf13",
   "metadata": {},
   "outputs": [],
   "source": [
    "print(len(files5a))\n",
    "print(len(files5b))"
   ]
  },
  {
   "cell_type": "code",
   "execution_count": null,
   "id": "eeb0e66f",
   "metadata": {},
   "outputs": [],
   "source": [
    "all_files = [files1a, files1c, files2a, files2c, files3a, files3b, files3c, files4a, files4b, files5a, files5b]\n",
    "all_paths = [mypath1a, mypath1c, mypath2a, mypath2c, mypath3a, mypath3b, mypath3c, mypath4a, mypath4b, mypath5a, mypath5b]\n"
   ]
  },
  {
   "cell_type": "code",
   "execution_count": null,
   "id": "3b223fe0",
   "metadata": {},
   "outputs": [],
   "source": [
    "for i in range(len(all_paths)-1):\n",
    "    for j in range(i+1, len(all_paths)):\n",
    "        common = len(list(set(all_files[i]).intersection(all_files[j])))\n",
    "        print(all_paths[i], ',', all_paths[j], ':', str(common))"
   ]
  },
  {
   "cell_type": "code",
   "execution_count": null,
   "id": "b11ca27b",
   "metadata": {},
   "outputs": [],
   "source": [
    "print(all_paths[1], ',', all_paths[2], ':', str(300))"
   ]
  },
  {
   "cell_type": "markdown",
   "id": "950875a0",
   "metadata": {},
   "source": [
    "## PH2 Dataset"
   ]
  },
  {
   "cell_type": "code",
   "execution_count": null,
   "id": "ff5965f6",
   "metadata": {},
   "outputs": [],
   "source": [
    "import os\n",
    "import os.path\n",
    "import shutil\n",
    "\n",
    "for dirpath, dirnames, filenames in os.walk(\".\"):\n",
    "    for filename in [f for f in filenames if f.endswith(\"lesion.bmp\")]:\n",
    "        print(filename)\n",
    "        shutil.move(os.path.join(dirpath, filename), 'mask/'+ filename)\n",
    "        "
   ]
  },
  {
   "cell_type": "markdown",
   "id": "61a4cd5d",
   "metadata": {},
   "source": [
    "# Resize All Datasets"
   ]
  },
  {
   "cell_type": "code",
   "execution_count": 1,
   "id": "61cabeb6",
   "metadata": {},
   "outputs": [],
   "source": [
    "from os import listdir\n",
    "from os.path import isfile, join\n",
    "import cv2\n",
    "from tqdm import tqdm"
   ]
  },
  {
   "cell_type": "code",
   "execution_count": 21,
   "id": "48a4fef5",
   "metadata": {},
   "outputs": [
    {
     "name": "stderr",
     "output_type": "stream",
     "text": [
      "100%|████████████████████████████████████████████████████████████████████████████████| 600/600 [04:26<00:00,  2.25it/s]"
     ]
    },
    {
     "name": "stdout",
     "output_type": "stream",
     "text": [
      "Done\n"
     ]
    },
    {
     "name": "stderr",
     "output_type": "stream",
     "text": [
      "\n"
     ]
    }
   ],
   "source": [
    "image_directory = 'ISIC/ISIC_2017/Test/Img'\n",
    "target_directory = 'Resized/' + image_directory\n",
    "\n",
    "image_files = [f for f in listdir(image_directory) if isfile(join(image_directory, f))]\n",
    "\n",
    "for idx in tqdm(range(len(image_files))):\n",
    "    # img = cv2.imread(image_directory+'/'+image_files[idx], cv2.IMREAD_GRAYSCALE)\n",
    "    img = cv2.imread(image_directory+'/'+image_files[idx])\n",
    "    resized = cv2.resize(img, (256, 256), interpolation = cv2.INTER_LINEAR)\n",
    "    cv2.imwrite(target_directory+'/'+image_files[idx], resized)\n",
    "    \n",
    "print(\"Done\")"
   ]
  },
  {
   "cell_type": "markdown",
   "id": "d2cd9c60",
   "metadata": {},
   "source": [
    "# 5 Regions"
   ]
  },
  {
   "cell_type": "code",
   "execution_count": 6,
   "id": "609676d9",
   "metadata": {},
   "outputs": [],
   "source": [
    "import os\n",
    "import os.path\n",
    "import shutil\n",
    "from os import listdir\n",
    "from os.path import isfile, join\n",
    "\n",
    "srcpath = 'F:/Sayeed/Biomed/Skin Cancer Datasets/ISIC/ISIC_2018_1_2/Regions/Val Mask'\n",
    "dstpath = 'F:/Sayeed/Biomed/Skin Cancer Datasets/ISIC/ISIC_2018_1_2/Regions/'\n",
    "\n",
    "for f in listdir(srcpath):\n",
    "    if f.find('globules') != -1:\n",
    "        shutil.move(os.path.join(srcpath, f), os.path.join(dstpath + 'mask_globule', f))\n",
    "    elif f.find('milia') != -1:\n",
    "        shutil.move(os.path.join(srcpath, f), os.path.join(dstpath + 'mask_milia', f))\n",
    "    elif f.find('negative') != -1:\n",
    "        shutil.move(os.path.join(srcpath, f), os.path.join(dstpath + 'mask_negative', f))\n",
    "    elif f.find('pigment') != -1:\n",
    "        shutil.move(os.path.join(srcpath, f), os.path.join(dstpath + 'mask_pigment', f))\n",
    "    elif f.find('streak') != -1:\n",
    "        shutil.move(os.path.join(srcpath, f), os.path.join(dstpath + 'mask_streak', f))\n",
    "\n",
    "        \n",
    "# onlyfiles = [f for f in listdir(mypath) if isfile(join(mypath, f))]\n",
    "# print(listdir(mypath))\n",
    "# shutil.move(os.path.join(dirpath, filename), 'mask/'+ filename)\n",
    "# print(onlyfiles)\n",
    " "
   ]
  }
 ],
 "metadata": {
  "kernelspec": {
   "display_name": "Python 3 (ipykernel)",
   "language": "python",
   "name": "python3"
  },
  "language_info": {
   "codemirror_mode": {
    "name": "ipython",
    "version": 3
   },
   "file_extension": ".py",
   "mimetype": "text/x-python",
   "name": "python",
   "nbconvert_exporter": "python",
   "pygments_lexer": "ipython3",
   "version": "3.9.7"
  }
 },
 "nbformat": 4,
 "nbformat_minor": 5
}
